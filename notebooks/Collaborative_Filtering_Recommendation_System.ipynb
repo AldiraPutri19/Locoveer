{
  "nbformat": 4,
  "nbformat_minor": 0,
  "metadata": {
    "colab": {
      "provenance": [],
      "gpuType": "V28"
    },
    "kernelspec": {
      "name": "python3",
      "display_name": "Python 3"
    },
    "language_info": {
      "name": "python"
    },
    "accelerator": "TPU"
  },
  "cells": [
    {
      "cell_type": "markdown",
      "source": [
        "# Initialization\n",
        "\n"
      ],
      "metadata": {
        "id": "xf5bYrVB4rXQ"
      }
    },
    {
      "cell_type": "code",
      "source": [
        "!pip install tensorflow_recommenders"
      ],
      "metadata": {
        "colab": {
          "base_uri": "https://localhost:8080/"
        },
        "id": "q6e54TfuKvYl",
        "outputId": "b13d277e-3c9b-47b1-a8c5-4723e1219353",
        "collapsed": true
      },
      "execution_count": 1,
      "outputs": [
        {
          "output_type": "stream",
          "name": "stdout",
          "text": [
            "Requirement already satisfied: tensorflow_recommenders in /usr/local/lib/python3.10/dist-packages (0.7.3)\n",
            "Requirement already satisfied: absl-py>=0.1.6 in /usr/local/lib/python3.10/dist-packages (from tensorflow_recommenders) (1.4.0)\n",
            "Requirement already satisfied: tensorflow>=2.9.0 in /usr/local/lib/python3.10/dist-packages (from tensorflow_recommenders) (2.15.0)\n",
            "Requirement already satisfied: astunparse>=1.6.0 in /usr/local/lib/python3.10/dist-packages (from tensorflow>=2.9.0->tensorflow_recommenders) (1.6.3)\n",
            "Requirement already satisfied: flatbuffers>=23.5.26 in /usr/local/lib/python3.10/dist-packages (from tensorflow>=2.9.0->tensorflow_recommenders) (24.3.25)\n",
            "Requirement already satisfied: gast!=0.5.0,!=0.5.1,!=0.5.2,>=0.2.1 in /usr/local/lib/python3.10/dist-packages (from tensorflow>=2.9.0->tensorflow_recommenders) (0.6.0)\n",
            "Requirement already satisfied: google-pasta>=0.1.1 in /usr/local/lib/python3.10/dist-packages (from tensorflow>=2.9.0->tensorflow_recommenders) (0.2.0)\n",
            "Requirement already satisfied: h5py>=2.9.0 in /usr/local/lib/python3.10/dist-packages (from tensorflow>=2.9.0->tensorflow_recommenders) (3.12.1)\n",
            "Requirement already satisfied: libclang>=13.0.0 in /usr/local/lib/python3.10/dist-packages (from tensorflow>=2.9.0->tensorflow_recommenders) (18.1.1)\n",
            "Requirement already satisfied: ml-dtypes~=0.2.0 in /usr/local/lib/python3.10/dist-packages (from tensorflow>=2.9.0->tensorflow_recommenders) (0.2.0)\n",
            "Requirement already satisfied: numpy<2.0.0,>=1.23.5 in /usr/local/lib/python3.10/dist-packages (from tensorflow>=2.9.0->tensorflow_recommenders) (1.26.4)\n",
            "Requirement already satisfied: opt-einsum>=2.3.2 in /usr/local/lib/python3.10/dist-packages (from tensorflow>=2.9.0->tensorflow_recommenders) (3.4.0)\n",
            "Requirement already satisfied: packaging in /usr/local/lib/python3.10/dist-packages (from tensorflow>=2.9.0->tensorflow_recommenders) (24.2)\n",
            "Requirement already satisfied: protobuf!=4.21.0,!=4.21.1,!=4.21.2,!=4.21.3,!=4.21.4,!=4.21.5,<5.0.0dev,>=3.20.3 in /usr/local/lib/python3.10/dist-packages (from tensorflow>=2.9.0->tensorflow_recommenders) (4.25.5)\n",
            "Requirement already satisfied: setuptools in /usr/local/lib/python3.10/dist-packages (from tensorflow>=2.9.0->tensorflow_recommenders) (75.1.0)\n",
            "Requirement already satisfied: six>=1.12.0 in /usr/local/lib/python3.10/dist-packages (from tensorflow>=2.9.0->tensorflow_recommenders) (1.16.0)\n",
            "Requirement already satisfied: termcolor>=1.1.0 in /usr/local/lib/python3.10/dist-packages (from tensorflow>=2.9.0->tensorflow_recommenders) (2.5.0)\n",
            "Requirement already satisfied: typing-extensions>=3.6.6 in /usr/local/lib/python3.10/dist-packages (from tensorflow>=2.9.0->tensorflow_recommenders) (4.12.2)\n",
            "Requirement already satisfied: wrapt<1.15,>=1.11.0 in /usr/local/lib/python3.10/dist-packages (from tensorflow>=2.9.0->tensorflow_recommenders) (1.14.1)\n",
            "Requirement already satisfied: tensorflow-io-gcs-filesystem>=0.23.1 in /usr/local/lib/python3.10/dist-packages (from tensorflow>=2.9.0->tensorflow_recommenders) (0.37.1)\n",
            "Requirement already satisfied: grpcio<2.0,>=1.24.3 in /usr/local/lib/python3.10/dist-packages (from tensorflow>=2.9.0->tensorflow_recommenders) (1.68.0)\n",
            "Requirement already satisfied: tensorboard<2.16,>=2.15 in /usr/local/lib/python3.10/dist-packages (from tensorflow>=2.9.0->tensorflow_recommenders) (2.15.2)\n",
            "Requirement already satisfied: tensorflow-estimator<2.16,>=2.15.0 in /usr/local/lib/python3.10/dist-packages (from tensorflow>=2.9.0->tensorflow_recommenders) (2.15.0)\n",
            "Requirement already satisfied: keras<2.16,>=2.15.0 in /usr/local/lib/python3.10/dist-packages (from tensorflow>=2.9.0->tensorflow_recommenders) (2.15.0)\n",
            "Requirement already satisfied: wheel<1.0,>=0.23.0 in /usr/local/lib/python3.10/dist-packages (from astunparse>=1.6.0->tensorflow>=2.9.0->tensorflow_recommenders) (0.45.0)\n",
            "Requirement already satisfied: google-auth<3,>=1.6.3 in /usr/local/lib/python3.10/dist-packages (from tensorboard<2.16,>=2.15->tensorflow>=2.9.0->tensorflow_recommenders) (2.27.0)\n",
            "Requirement already satisfied: google-auth-oauthlib<2,>=0.5 in /usr/local/lib/python3.10/dist-packages (from tensorboard<2.16,>=2.15->tensorflow>=2.9.0->tensorflow_recommenders) (1.2.1)\n",
            "Requirement already satisfied: markdown>=2.6.8 in /usr/local/lib/python3.10/dist-packages (from tensorboard<2.16,>=2.15->tensorflow>=2.9.0->tensorflow_recommenders) (3.7)\n",
            "Requirement already satisfied: requests<3,>=2.21.0 in /usr/local/lib/python3.10/dist-packages (from tensorboard<2.16,>=2.15->tensorflow>=2.9.0->tensorflow_recommenders) (2.32.3)\n",
            "Requirement already satisfied: tensorboard-data-server<0.8.0,>=0.7.0 in /usr/local/lib/python3.10/dist-packages (from tensorboard<2.16,>=2.15->tensorflow>=2.9.0->tensorflow_recommenders) (0.7.2)\n",
            "Requirement already satisfied: werkzeug>=1.0.1 in /usr/local/lib/python3.10/dist-packages (from tensorboard<2.16,>=2.15->tensorflow>=2.9.0->tensorflow_recommenders) (3.1.3)\n",
            "Requirement already satisfied: cachetools<6.0,>=2.0.0 in /usr/local/lib/python3.10/dist-packages (from google-auth<3,>=1.6.3->tensorboard<2.16,>=2.15->tensorflow>=2.9.0->tensorflow_recommenders) (5.5.0)\n",
            "Requirement already satisfied: pyasn1-modules>=0.2.1 in /usr/local/lib/python3.10/dist-packages (from google-auth<3,>=1.6.3->tensorboard<2.16,>=2.15->tensorflow>=2.9.0->tensorflow_recommenders) (0.4.1)\n",
            "Requirement already satisfied: rsa<5,>=3.1.4 in /usr/local/lib/python3.10/dist-packages (from google-auth<3,>=1.6.3->tensorboard<2.16,>=2.15->tensorflow>=2.9.0->tensorflow_recommenders) (4.9)\n",
            "Requirement already satisfied: requests-oauthlib>=0.7.0 in /usr/local/lib/python3.10/dist-packages (from google-auth-oauthlib<2,>=0.5->tensorboard<2.16,>=2.15->tensorflow>=2.9.0->tensorflow_recommenders) (2.0.0)\n",
            "Requirement already satisfied: charset-normalizer<4,>=2 in /usr/local/lib/python3.10/dist-packages (from requests<3,>=2.21.0->tensorboard<2.16,>=2.15->tensorflow>=2.9.0->tensorflow_recommenders) (3.4.0)\n",
            "Requirement already satisfied: idna<4,>=2.5 in /usr/local/lib/python3.10/dist-packages (from requests<3,>=2.21.0->tensorboard<2.16,>=2.15->tensorflow>=2.9.0->tensorflow_recommenders) (3.10)\n",
            "Requirement already satisfied: urllib3<3,>=1.21.1 in /usr/local/lib/python3.10/dist-packages (from requests<3,>=2.21.0->tensorboard<2.16,>=2.15->tensorflow>=2.9.0->tensorflow_recommenders) (2.2.3)\n",
            "Requirement already satisfied: certifi>=2017.4.17 in /usr/local/lib/python3.10/dist-packages (from requests<3,>=2.21.0->tensorboard<2.16,>=2.15->tensorflow>=2.9.0->tensorflow_recommenders) (2024.8.30)\n",
            "Requirement already satisfied: MarkupSafe>=2.1.1 in /usr/local/lib/python3.10/dist-packages (from werkzeug>=1.0.1->tensorboard<2.16,>=2.15->tensorflow>=2.9.0->tensorflow_recommenders) (3.0.2)\n",
            "Requirement already satisfied: pyasn1<0.7.0,>=0.4.6 in /usr/local/lib/python3.10/dist-packages (from pyasn1-modules>=0.2.1->google-auth<3,>=1.6.3->tensorboard<2.16,>=2.15->tensorflow>=2.9.0->tensorflow_recommenders) (0.6.1)\n",
            "Requirement already satisfied: oauthlib>=3.0.0 in /usr/local/lib/python3.10/dist-packages (from requests-oauthlib>=0.7.0->google-auth-oauthlib<2,>=0.5->tensorboard<2.16,>=2.15->tensorflow>=2.9.0->tensorflow_recommenders) (3.2.2)\n"
          ]
        }
      ]
    },
    {
      "cell_type": "code",
      "source": [
        "import numpy as np\n",
        "import pandas as pd\n",
        "import requests\n",
        "import os\n",
        "from datetime import datetime, timedelta\n",
        "import matplotlib.pyplot as plt\n",
        "from matplotlib.patches import Patch\n",
        "from matplotlib.ticker import MaxNLocator\n",
        "import seaborn as sns\n",
        "import tensorflow as tf\n",
        "import tensorflow_recommenders as tfrs\n",
        "from IPython.display import Markdown, display\n",
        "from concurrent.futures import ThreadPoolExecutor"
      ],
      "metadata": {
        "id": "jXCLZBER4vlw"
      },
      "execution_count": 2,
      "outputs": []
    },
    {
      "cell_type": "markdown",
      "source": [
        "# Data Wrangling"
      ],
      "metadata": {
        "id": "f70z2K54_fvt"
      }
    },
    {
      "cell_type": "code",
      "source": [
        "urls = [\n",
        "    \"https://raw.githubusercontent.com/AldiraPutri19/Locoveer/refs/heads/machine-learning/datasets/user_ratings.csv\",\n",
        "    \"https://raw.githubusercontent.com/AldiraPutri19/Locoveer/refs/heads/machine-learning/datasets/users.csv\",\n",
        "    \"https://raw.githubusercontent.com/AldiraPutri19/Locoveer/refs/heads/machine-learning/datasets/travel_destinations.csv\"\n",
        "]\n",
        "\n",
        "file_path = \"/content/\"\n",
        "os.makedirs(file_path, exist_ok=True)\n",
        "\n",
        "def download_data(url):\n",
        "    \"\"\"Download data from the URL and save it locally.\"\"\"\n",
        "    file_name = url.split(\"/\")[-1]\n",
        "    full_file_path = os.path.join(file_path, file_name)\n",
        "\n",
        "    try:\n",
        "        response = requests.get(url)\n",
        "        response.raise_for_status()\n",
        "        with open(full_file_path, \"wb\") as file:\n",
        "            file.write(response.content)\n",
        "            print(f\"Successfully downloaded: {file_name}\")\n",
        "    except requests.exceptions.RequestException as e:\n",
        "        print(f\"Failed to download {file_name} - Error: {e}\")\n",
        "\n",
        "with ThreadPoolExecutor() as executor:\n",
        "    executor.map(download_data, urls)\n"
      ],
      "metadata": {
        "id": "Goya-y4c_jZV",
        "colab": {
          "base_uri": "https://localhost:8080/"
        },
        "outputId": "a560d1af-d271-400a-b5ef-af38b95c9bf7"
      },
      "execution_count": 3,
      "outputs": [
        {
          "output_type": "stream",
          "name": "stdout",
          "text": [
            "Successfully downloaded: users.csv\n",
            "Successfully downloaded: travel_destinations.csv\n",
            "Successfully downloaded: user_ratings.csv\n"
          ]
        }
      ]
    },
    {
      "cell_type": "code",
      "source": [
        "user_rating = pd.read_csv('user_ratings.csv')\n",
        "user = pd.read_csv('users.csv')\n",
        "travel_destination = pd.read_csv('travel_destinations.csv')\n",
        "\n",
        "def printmd(string):\n",
        "    display(Markdown(string))\n",
        "\n",
        "printmd(\"Dataset user:\")\n",
        "print(user.head())\n",
        "printmd(\"Dataset user_rating:\")\n",
        "print(user_rating.head())\n",
        "printmd(\"Dataset travel_destination:\")\n",
        "print(travel_destination.head())\n",
        "\n",
        "printmd(\"Number of Users: {:,}\".format(len(user.User_ID.unique())))\n",
        "printmd(\"Number of Travel Destinations: {:,}\".format(len(travel_destination.Destination_ID.unique())))"
      ],
      "metadata": {
        "colab": {
          "base_uri": "https://localhost:8080/",
          "height": 956
        },
        "id": "rAS6O2hZ8ZNO",
        "outputId": "ca645071-76f8-4bcd-c958-17feac02706e"
      },
      "execution_count": 4,
      "outputs": [
        {
          "output_type": "display_data",
          "data": {
            "text/plain": [
              "<IPython.core.display.Markdown object>"
            ],
            "text/markdown": "Dataset user:"
          },
          "metadata": {}
        },
        {
          "output_type": "stream",
          "name": "stdout",
          "text": [
            "   User_ID             Name                          Email  Age  Gender  \\\n",
            "0        1     Tono Pratama     tonopratama858@example.com   34    Male   \n",
            "1        2       Eka Kusuma       ekakusuma629@example.com   59    Male   \n",
            "2        3   Lina Sari B.A.         linasari11@example.com   61  Female   \n",
            "3        4  Bambang Hidayat  bambanghidayat565@example.com   26  Female   \n",
            "4        5     Tono Santoso     tonosantoso978@example.com   49    Male   \n",
            "\n",
            "                       Address  \n",
            "0           Tegal, Jawa Tengah  \n",
            "1  Kupang, Nusa Tenggara Timur  \n",
            "2            Lhokseumawe, Aceh  \n",
            "3        Semarang, Jawa Tengah  \n",
            "4        Batam, Kepulauan Riau  \n"
          ]
        },
        {
          "output_type": "display_data",
          "data": {
            "text/plain": [
              "<IPython.core.display.Markdown object>"
            ],
            "text/markdown": "Dataset user_rating:"
          },
          "metadata": {}
        },
        {
          "output_type": "stream",
          "name": "stdout",
          "text": [
            "   User_ID  Destination_ID  Rating\n",
            "0       50              70       5\n",
            "1      540              71       5\n",
            "2      602             315       4\n",
            "3      622             120       4\n",
            "4      863             268       5\n"
          ]
        },
        {
          "output_type": "display_data",
          "data": {
            "text/plain": [
              "<IPython.core.display.Markdown object>"
            ],
            "text/markdown": "Dataset travel_destination:"
          },
          "metadata": {}
        },
        {
          "output_type": "stream",
          "name": "stdout",
          "text": [
            "   Destination_ID                   Destination_Name  \\\n",
            "0             1.0                   Monumen Nasional   \n",
            "1             2.0                           Kota Tua   \n",
            "2             3.0                      Dunia Fantasi   \n",
            "3             4.0  Taman Mini Indonesia Indah (TMII)   \n",
            "4             5.0           Atlantis Water Adventure   \n",
            "\n",
            "                                         Description       Category     City  \\\n",
            "0  Monumen Nasional atau yang populer disingkat d...         Budaya  Jakarta   \n",
            "1  Kota tua di Jakarta, yang juga bernama Kota Tu...         Budaya  Jakarta   \n",
            "2  Dunia Fantasi atau disebut juga Dufan adalah t...  Taman Hiburan  Jakarta   \n",
            "3  Taman Mini Indonesia Indah merupakan suatu kaw...  Taman Hiburan  Jakarta   \n",
            "4  Atlantis Water Adventure atau dikenal dengan A...  Taman Hiburan  Jakarta   \n",
            "\n",
            "      Price                                       Coordinate       Lat  \\\n",
            "0   20000.0          {'lat': -6.1753924, 'lng': 106.8271528} -6.175392   \n",
            "1       0.0  {'lat': -6.137644799999999, 'lng': 106.8171245} -6.137645   \n",
            "2  270000.0  {'lat': -6.125312399999999, 'lng': 106.8335377} -6.125312   \n",
            "3   10000.0  {'lat': -6.302445899999999, 'lng': 106.8951559} -6.302446   \n",
            "4   94000.0             {'lat': -6.12419, 'lng': 106.839134} -6.124190   \n",
            "\n",
            "         Long  Unnamed: 11  Unnamed: 12  \n",
            "0  106.827153          NaN          1.0  \n",
            "1  106.817125          NaN          2.0  \n",
            "2  106.833538          NaN          3.0  \n",
            "3  106.895156          NaN          4.0  \n",
            "4  106.839134          NaN          5.0  \n"
          ]
        },
        {
          "output_type": "display_data",
          "data": {
            "text/plain": [
              "<IPython.core.display.Markdown object>"
            ],
            "text/markdown": "Number of Users: 1,000"
          },
          "metadata": {}
        },
        {
          "output_type": "display_data",
          "data": {
            "text/plain": [
              "<IPython.core.display.Markdown object>"
            ],
            "text/markdown": "Number of Travel Destinations: 437"
          },
          "metadata": {}
        }
      ]
    },
    {
      "cell_type": "markdown",
      "source": [
        "# Data Exploration & Visualization\n"
      ],
      "metadata": {
        "id": "W6tzPOsH4_yp"
      }
    },
    {
      "cell_type": "code",
      "source": [
        "printmd(\"**Missing Values:**\")\n",
        "print(user.isnull().sum(), '\\n')\n",
        "print(user_rating.isnull().sum(), '\\n')\n",
        "print(travel_destination.isnull().sum())"
      ],
      "metadata": {
        "id": "Hs2cvubj5Q4f",
        "colab": {
          "base_uri": "https://localhost:8080/",
          "height": 480
        },
        "outputId": "8b86a9b9-2f12-4bee-fd19-87265c2a7ba7"
      },
      "execution_count": 5,
      "outputs": [
        {
          "output_type": "display_data",
          "data": {
            "text/plain": [
              "<IPython.core.display.Markdown object>"
            ],
            "text/markdown": "**Missing Values:**"
          },
          "metadata": {}
        },
        {
          "output_type": "stream",
          "name": "stdout",
          "text": [
            "User_ID    0\n",
            "Name       0\n",
            "Email      0\n",
            "Age        0\n",
            "Gender     0\n",
            "Address    0\n",
            "dtype: int64 \n",
            "\n",
            "User_ID           0\n",
            "Destination_ID    0\n",
            "Rating            0\n",
            "dtype: int64 \n",
            "\n",
            "Destination_ID        0\n",
            "Destination_Name      0\n",
            "Description           0\n",
            "Category              0\n",
            "City                  0\n",
            "Price                 0\n",
            "Coordinate            0\n",
            "Lat                   3\n",
            "Long                  0\n",
            "Unnamed: 11         437\n",
            "Unnamed: 12           0\n",
            "dtype: int64\n"
          ]
        }
      ]
    },
    {
      "cell_type": "code",
      "source": [
        "travel_destination.drop(columns=['Coordinate','Lat','Long','Unnamed: 11', 'Unnamed: 12'], inplace=True)"
      ],
      "metadata": {
        "id": "eSD2v8E-z2lM"
      },
      "execution_count": 6,
      "outputs": []
    },
    {
      "cell_type": "code",
      "source": [
        "travel_destination.info()"
      ],
      "metadata": {
        "colab": {
          "base_uri": "https://localhost:8080/"
        },
        "id": "oJ4UMvoH9WUt",
        "outputId": "72b0b9d4-e74b-4058-a6c6-24019eecd94f"
      },
      "execution_count": 7,
      "outputs": [
        {
          "output_type": "stream",
          "name": "stdout",
          "text": [
            "<class 'pandas.core.frame.DataFrame'>\n",
            "RangeIndex: 437 entries, 0 to 436\n",
            "Data columns (total 6 columns):\n",
            " #   Column            Non-Null Count  Dtype  \n",
            "---  ------            --------------  -----  \n",
            " 0   Destination_ID    437 non-null    float64\n",
            " 1   Destination_Name  437 non-null    object \n",
            " 2   Description       437 non-null    object \n",
            " 3   Category          437 non-null    object \n",
            " 4   City              437 non-null    object \n",
            " 5   Price             437 non-null    float64\n",
            "dtypes: float64(2), object(4)\n",
            "memory usage: 20.6+ KB\n"
          ]
        }
      ]
    },
    {
      "cell_type": "code",
      "source": [
        "rating_by_destination = user_rating.groupby(\"Destination_ID\").agg({\"User_ID\": \"count\", \"Rating\": \"mean\"}).reset_index()\n",
        "rating_by_destination.columns = [\"Destination_ID\", \"Number of Ratings\", \"Average Rating\"]\n",
        "\n",
        "cutoff = 50\n",
        "top_rated_destinations = rating_by_destination.loc[rating_by_destination[\"Number of Ratings\"] > cutoff].sort_values(by=\"Average Rating\", ascending=False)\n",
        "\n",
        "printmd(\"Top Rated Travel Destinations:\")\n",
        "print(top_rated_destinations.head())"
      ],
      "metadata": {
        "colab": {
          "base_uri": "https://localhost:8080/",
          "height": 151
        },
        "id": "X41aiBxvzvzD",
        "outputId": "ed0824b4-e500-4334-a4bf-94fa7c73799b"
      },
      "execution_count": 8,
      "outputs": [
        {
          "output_type": "display_data",
          "data": {
            "text/plain": [
              "<IPython.core.display.Markdown object>"
            ],
            "text/markdown": "Top Rated Travel Destinations:"
          },
          "metadata": {}
        },
        {
          "output_type": "stream",
          "name": "stdout",
          "text": [
            "     Destination_ID  Number of Ratings  Average Rating\n",
            "336             337                236        3.313559\n",
            "132             133                251        3.274900\n",
            "90               91                208        3.240385\n",
            "292             293                235        3.217021\n",
            "21               22                225        3.191111\n"
          ]
        }
      ]
    },
    {
      "cell_type": "markdown",
      "source": [
        "# Preprocessing Data"
      ],
      "metadata": {
        "id": "2UfBFh8E5bB1"
      }
    },
    {
      "cell_type": "code",
      "source": [
        "cutoff_no_rat = 50\n",
        "recent_ratings = user_rating.loc[user_rating[\"Destination_ID\"].isin(top_rated_destinations[\"Destination_ID\"])]\n",
        "print(\"Number of Ratings after filter: {:,}\".format(recent_ratings.shape[0]))\n",
        "\n",
        "userIds = recent_ratings.User_ID.unique()\n",
        "destinationIds = recent_ratings.Destination_ID.unique()\n",
        "\n",
        "user_mapping = {id_: idx for idx, id_ in enumerate(userIds)}\n",
        "destination_mapping = {id_: idx for idx, id_ in enumerate(destinationIds)}\n",
        "\n",
        "user_rating['User_ID'] = user_rating['User_ID'].map(user_mapping)\n",
        "user_rating['Destination_ID'] = user_rating['Destination_ID'].map(destination_mapping)\n",
        "\n",
        "ratings = tf.data.Dataset.from_tensor_slices({\n",
        "    \"userId\": tf.cast(recent_ratings.User_ID.values, tf.float32),\n",
        "    \"destinationId\": tf.cast(recent_ratings.Destination_ID.values, tf.float32),\n",
        "    \"rating\": tf.cast(recent_ratings.Rating.values, tf.int8),\n",
        "})\n",
        "\n",
        "total_ratings = len(recent_ratings)\n",
        "\n",
        "shuffled = ratings.shuffle(100_000, seed=42, reshuffle_each_iteration=False)\n",
        "\n",
        "train_size = int(total_ratings * 0.7)\n",
        "val_size = int(total_ratings * 0.15)\n",
        "\n",
        "train = shuffled.take(train_size)\n",
        "validation = shuffled.skip(train_size).take(val_size)\n",
        "test = shuffled.skip(train_size + val_size).take(total_ratings - train_size - val_size)\n",
        "\n",
        "print(\"Training set size:\", train_size)\n",
        "print(\"Validation set size:\", val_size)\n",
        "print(\"Testing set size:\", total_ratings - train_size - val_size)\n",
        "\n",
        "unique_userIds = userIds\n",
        "unique_destinationIds = destinationIds"
      ],
      "metadata": {
        "id": "g5E-5Hsg5dd5",
        "colab": {
          "base_uri": "https://localhost:8080/"
        },
        "outputId": "897d3123-3b4c-4afc-f4d0-a16038ba739b"
      },
      "execution_count": 9,
      "outputs": [
        {
          "output_type": "stream",
          "name": "stdout",
          "text": [
            "Number of Ratings after filter: 100,000\n",
            "Training set size: 70000\n",
            "Validation set size: 15000\n",
            "Testing set size: 15000\n"
          ]
        }
      ]
    },
    {
      "cell_type": "markdown",
      "source": [
        "# Basic Model Training"
      ],
      "metadata": {
        "id": "OPLIgdc_5eDa"
      }
    },
    {
      "cell_type": "code",
      "source": [
        "# class RankingModel(tf.keras.Model):\n",
        "#     def __init__(self):\n",
        "#         super().__init__()\n",
        "#         embedding_dimension = 32\n",
        "#         self.user_embeddings = tf.keras.Sequential([\n",
        "#             tf.keras.layers.experimental.preprocessing.StringLookup(\n",
        "#                 vocabulary=[str(x) for x in unique_userIds], mask_token=None),\n",
        "#             tf.keras.layers.Embedding(len(unique_userIds) + 1, embedding_dimension)\n",
        "#         ])\n",
        "\n",
        "#         self.destination_embeddings = tf.keras.Sequential([\n",
        "#             tf.keras.layers.experimental.preprocessing.StringLookup(\n",
        "#                 vocabulary=[str(x) for x in unique_destinationIds], mask_token=None),\n",
        "#             tf.keras.layers.Embedding(len(unique_destinationIds) + 1, embedding_dimension)\n",
        "#         ])\n",
        "\n",
        "#         self.ratings = tf.keras.Sequential([\n",
        "#             tf.keras.layers.Dense(256, activation=\"relu\"),\n",
        "#             tf.keras.layers.Dense(64, activation=\"relu\"),\n",
        "#             tf.keras.layers.Dense(1)\n",
        "#         ])\n",
        "\n",
        "#     def call(self, userId, destinationId):\n",
        "#         user_embeddings = self.user_embeddings(tf.as_string(userId))\n",
        "#         destination_embeddings = self.destination_embeddings(tf.as_string(destinationId))\n",
        "#         return self.ratings(tf.concat([user_embeddings, destination_embeddings], axis=1))\n",
        "\n",
        "# class travelRecommendationModel(tfrs.models.Model):\n",
        "#     def __init__(self):\n",
        "#         super().__init__()\n",
        "#         self.ranking_model = RankingModel()\n",
        "#         self.task = tfrs.tasks.Ranking(\n",
        "#             loss=tf.keras.losses.MeanSquaredError(),\n",
        "#             metrics=[tf.keras.metrics.RootMeanSquaredError()]\n",
        "#         )\n",
        "\n",
        "#     def compute_loss(self, features, training=False):\n",
        "#         rating_predictions = self.ranking_model(features[\"userId\"], features[\"destinationId\"])\n",
        "#         return self.task(labels=features[\"rating\"], predictions=rating_predictions)\n",
        "\n",
        "# model = travelRecommendationModel()\n",
        "# model.compile(optimizer=tf.keras.optimizers.Adagrad(learning_rate=0.1))\n",
        "\n",
        "# cached_train = train.shuffle(100_000).batch(8192).cache()\n",
        "# cached_test = test.batch(4096).cache()\n",
        "\n",
        "# model.fit(cached_train, epochs=10)"
      ],
      "metadata": {
        "id": "d3OKvxk78q3u"
      },
      "execution_count": 10,
      "outputs": []
    },
    {
      "cell_type": "code",
      "source": [
        "class RankingModel(tf.keras.Model):\n",
        "    def __init__(self, user_ids, destination_ids, embedding_dimension=128):\n",
        "        super().__init__()\n",
        "        self.user_embeddings = tf.keras.Sequential([\n",
        "            tf.keras.layers.experimental.preprocessing.StringLookup(vocabulary=[str(x) for x in user_ids], mask_token=None),\n",
        "            tf.keras.layers.Embedding(len(user_ids) + 1, embedding_dimension)\n",
        "        ])\n",
        "        self.destination_embeddings = tf.keras.Sequential([\n",
        "            tf.keras.layers.experimental.preprocessing.StringLookup(vocabulary=[str(x) for x in destination_ids], mask_token=None),\n",
        "            tf.keras.layers.Embedding(len(destination_ids) + 1, embedding_dimension)\n",
        "        ])\n",
        "        self.ratings = tf.keras.Sequential([\n",
        "            tf.keras.layers.Dense(512, activation=\"relu\", kernel_regularizer=tf.keras.regularizers.l2(0.01)),\n",
        "            tf.keras.layers.Dropout(0.4),\n",
        "            tf.keras.layers.Dense(256, activation=\"relu\"),\n",
        "            tf.keras.layers.Dropout(0.3),\n",
        "            tf.keras.layers.Dense(128, activation=\"relu\"),\n",
        "            tf.keras.layers.Dropout(0.2),\n",
        "            tf.keras.layers.Dense(1)\n",
        "        ])\n",
        "\n",
        "    def call(self, userId, destinationId):\n",
        "        user_embeddings = self.user_embeddings(tf.as_string(userId))\n",
        "        destination_embeddings = self.destination_embeddings(tf.as_string(destinationId))\n",
        "        return self.ratings(tf.concat([user_embeddings, destination_embeddings], axis=1))\n",
        "\n",
        "class TravelRecommendationModel(tfrs.models.Model):\n",
        "    def __init__(self, ranking_model):\n",
        "        super().__init__()\n",
        "        self.ranking_model = ranking_model\n",
        "        self.task = tfrs.tasks.Ranking(\n",
        "            loss=tf.keras.losses.Huber(),\n",
        "            metrics=[tf.keras.metrics.RootMeanSquaredError()]\n",
        "        )\n",
        "\n",
        "    def call(self, inputs):\n",
        "        user_id = inputs[\"userId\"]\n",
        "        destination_id = inputs[\"destinationId\"]\n",
        "        return self.ranking_model(user_id, destination_id)\n",
        "\n",
        "    def compute_loss(self, features, training=False):\n",
        "        rating_predictions = self.ranking_model(features[\"userId\"], features[\"destinationId\"])\n",
        "        return self.task(labels=features[\"rating\"], predictions=rating_predictions)\n",
        "\n",
        "def train_model(model, train_data, validation_data, epochs=10, learning_rate=tf.keras.optimizers.schedules.ExponentialDecay(\n",
        "    initial_learning_rate=0.001,\n",
        "    decay_steps=500,\n",
        "    decay_rate=0.75), callbacks=None):\n",
        "    model.compile(optimizer=tf.keras.optimizers.AdamW(learning_rate))\n",
        "\n",
        "    # Prepare training and validation data\n",
        "    cached_train = train_data.shuffle(100_000).batch(2048).cache()\n",
        "    cached_validation = validation_data.batch(1024).cache()\n",
        "\n",
        "    if callbacks is None:\n",
        "        callbacks = []\n",
        "\n",
        "    history = model.fit(cached_train, validation_data=cached_validation, epochs=epochs, callbacks=callbacks)\n",
        "    return history\n",
        "\n",
        "def evaluate_model(model, test_data):\n",
        "    cached_test = test_data.batch(1024).cache()\n",
        "    return model.evaluate(cached_test, return_dict=True)\n",
        "\n",
        "def generate_recommendations(model, user_id, destination_ids, user_mapping, travel_destination, top_n=5):\n",
        "    test_rating = {}\n",
        "    for m in destination_ids:\n",
        "        test_rating[m] = model.ranking_model(tf.convert_to_tensor([user_id]), tf.convert_to_tensor([m]))\n",
        "\n",
        "    top_destinations = sorted(test_rating, key=test_rating.get, reverse=True)[:top_n]\n",
        "    recommendations = []\n",
        "    for dest_id in top_destinations:\n",
        "        dest_name = travel_destination[travel_destination[\"Destination_ID\"] == dest_id][\"Destination_Name\"].iloc[0]\n",
        "        recommendations.append(dest_name)\n",
        "    return recommendations\n",
        "\n",
        "early_stopping = tf.keras.callbacks.EarlyStopping(\n",
        "    monitor=\"val_loss\", patience=5, restore_best_weights=True\n",
        ")\n",
        "\n",
        "# Example Usage\n",
        "user_ids = recent_ratings.User_ID.unique()\n",
        "destination_ids = recent_ratings.Destination_ID.unique()\n",
        "ranking_model = RankingModel(user_ids, destination_ids)\n",
        "travel_model = TravelRecommendationModel(ranking_model)\n",
        "\n",
        "history = train_model(travel_model, train, validation, epochs=20, callbacks=[early_stopping])"
      ],
      "metadata": {
        "colab": {
          "base_uri": "https://localhost:8080/"
        },
        "id": "OdzrrReiyI9n",
        "outputId": "f980b0bb-fe12-4063-de8d-7b4991daefcc"
      },
      "execution_count": 11,
      "outputs": [
        {
          "output_type": "stream",
          "name": "stdout",
          "text": [
            "Epoch 1/20\n",
            "35/35 [==============================] - 8s 169ms/step - root_mean_squared_error: 2.1028 - loss: 1.2484 - regularization_loss: 2.1205 - total_loss: 3.3689 - val_root_mean_squared_error: 1.4083 - val_loss: 0.7696 - val_regularization_loss: 1.1527 - val_total_loss: 1.9223\n",
            "Epoch 2/20\n",
            "35/35 [==============================] - 5s 150ms/step - root_mean_squared_error: 1.4183 - loss: 0.8032 - regularization_loss: 0.6750 - total_loss: 1.4782 - val_root_mean_squared_error: 1.4115 - val_loss: 0.7726 - val_regularization_loss: 0.3455 - val_total_loss: 1.1181\n",
            "Epoch 3/20\n",
            "35/35 [==============================] - 6s 162ms/step - root_mean_squared_error: 1.4146 - loss: 0.8013 - regularization_loss: 0.2037 - total_loss: 1.0050 - val_root_mean_squared_error: 1.4104 - val_loss: 0.7718 - val_regularization_loss: 0.1077 - val_total_loss: 0.8795\n",
            "Epoch 4/20\n",
            "35/35 [==============================] - 5s 147ms/step - root_mean_squared_error: 1.4153 - loss: 0.8019 - regularization_loss: 0.0669 - total_loss: 0.8688 - val_root_mean_squared_error: 1.4093 - val_loss: 0.7709 - val_regularization_loss: 0.0384 - val_total_loss: 0.8093\n",
            "Epoch 5/20\n",
            "35/35 [==============================] - 5s 153ms/step - root_mean_squared_error: 1.4161 - loss: 0.8022 - regularization_loss: 0.0256 - total_loss: 0.8278 - val_root_mean_squared_error: 1.4134 - val_loss: 0.7740 - val_regularization_loss: 0.0158 - val_total_loss: 0.7898\n",
            "Epoch 6/20\n",
            "35/35 [==============================] - 5s 148ms/step - root_mean_squared_error: 1.4173 - loss: 0.8026 - regularization_loss: 0.0114 - total_loss: 0.8140 - val_root_mean_squared_error: 1.4203 - val_loss: 0.7787 - val_regularization_loss: 0.0073 - val_total_loss: 0.7861\n"
          ]
        }
      ]
    },
    {
      "cell_type": "code",
      "source": [
        "plt.figure(figsize=(12, 6))\n",
        "plt.plot(history.history['loss'], label='Training Loss')\n",
        "plt.plot(history.history['val_loss'], label='Validation Loss')\n",
        "plt.xlabel('Epochs')\n",
        "plt.ylabel('Loss')\n",
        "plt.title('Loss Curve')\n",
        "plt.legend()\n",
        "plt.show()"
      ],
      "metadata": {
        "colab": {
          "base_uri": "https://localhost:8080/",
          "height": 564
        },
        "id": "sf0pH66uTHkd",
        "outputId": "5e2e1bd9-b845-4d27-f134-9c4ad94a7c0a"
      },
      "execution_count": 12,
      "outputs": [
        {
          "output_type": "display_data",
          "data": {
            "text/plain": [
              "<Figure size 1200x600 with 1 Axes>"
            ],
            "image/png": "[encoded data removed]"
          },
          "metadata": {}
        }
      ]
    },
    {
      "cell_type": "code",
      "source": [
        "plt.figure(figsize=(12, 6))\n",
        "plt.plot(history.history['root_mean_squared_error'], label='Training RMSE')\n",
        "plt.plot(history.history['val_root_mean_squared_error'], label='Validation RMSE')\n",
        "plt.xlabel('Epochs')\n",
        "plt.ylabel('RMSE')\n",
        "plt.title('RMSE Curve')\n",
        "plt.legend()\n",
        "plt.show()"
      ],
      "metadata": {
        "colab": {
          "base_uri": "https://localhost:8080/",
          "height": 564
        },
        "id": "PMaqUG1gTKrR",
        "outputId": "81a204ca-7568-43ed-9a07-c3a5eb40d6c1"
      },
      "execution_count": 13,
      "outputs": [
        {
          "output_type": "display_data",
          "data": {
            "text/plain": [
              "<Figure size 1200x600 with 1 Axes>"
            ],
            "image/png": "[encoded data removed]"
          },
          "metadata": {}
        }
      ]
    },
    {
      "cell_type": "code",
      "source": [
        "sample_user_id = tf.constant([1])\n",
        "sample_destination_id = tf.constant([1])\n",
        "\n",
        "_ = travel_model({\"userId\": sample_user_id, \"destinationId\": sample_destination_id})\n",
        "\n",
        "travel_model.save('collaborative_filtering_recommendation_system', save_format='tf')"
      ],
      "metadata": {
        "colab": {
          "base_uri": "https://localhost:8080/"
        },
        "id": "XlJFa03NaKEo",
        "outputId": "8d2ed8f0-9309-434e-8924-f008fea1be0c"
      },
      "execution_count": 15,
      "outputs": [
        {
          "output_type": "stream",
          "name": "stderr",
          "text": [
            "WARNING:tensorflow:Model's `__init__()` arguments contain non-serializable objects. Please implement a `get_config()` method in the subclassed Model for proper saving and loading. Defaulting to empty config.\n",
            "WARNING:tensorflow:Model's `__init__()` arguments contain non-serializable objects. Please implement a `get_config()` method in the subclassed Model for proper saving and loading. Defaulting to empty config.\n",
            "WARNING:tensorflow:Model's `__init__()` arguments contain non-serializable objects. Please implement a `get_config()` method in the subclassed Model for proper saving and loading. Defaulting to empty config.\n",
            "WARNING:tensorflow:Model's `__init__()` arguments contain non-serializable objects. Please implement a `get_config()` method in the subclassed Model for proper saving and loading. Defaulting to empty config.\n",
            "WARNING:tensorflow:Model's `__init__()` arguments contain non-serializable objects. Please implement a `get_config()` method in the subclassed Model for proper saving and loading. Defaulting to empty config.\n",
            "WARNING:tensorflow:Model's `__init__()` arguments contain non-serializable objects. Please implement a `get_config()` method in the subclassed Model for proper saving and loading. Defaulting to empty config.\n",
            "WARNING:tensorflow:Model's `__init__()` arguments contain non-serializable objects. Please implement a `get_config()` method in the subclassed Model for proper saving and loading. Defaulting to empty config.\n",
            "WARNING:tensorflow:Model's `__init__()` arguments contain non-serializable objects. Please implement a `get_config()` method in the subclassed Model for proper saving and loading. Defaulting to empty config.\n"
          ]
        }
      ]
    },
    {
      "cell_type": "markdown",
      "source": [
        "# Evaluation"
      ],
      "metadata": {
        "id": "Wit2efzg5tsv"
      }
    },
    {
      "cell_type": "code",
      "source": [
        "evaluation_result = evaluate_model(travel_model, test)\n",
        "print(\"Model evaluation result:\", evaluation_result)\n",
        "\n",
        "user_rand = userIds[123]\n",
        "test_rating = {}\n",
        "\n",
        "for m in test.take(5):\n",
        "    test_rating[m[\"destinationId\"].numpy()] = ranking_model(\n",
        "        tf.convert_to_tensor([user_rand], dtype=tf.float32),\n",
        "        tf.convert_to_tensor([m[\"destinationId\"]], dtype=tf.float32)\n",
        "    )\n",
        "\n",
        "print(\"Top 5 recommended travel destinations for User {}: \".format(user_rand))\n",
        "for m in sorted(test_rating, key=test_rating.get, reverse=True):\n",
        "    dest_id = int(m)\n",
        "\n",
        "    dest_name = travel_destination[travel_destination[\"Destination_ID\"] == dest_id][\"Destination_Name\"].iloc[0]\n",
        "    user_name = user[user[\"User_ID\"] == user_rand][\"Name\"].iloc[0]\n",
        "\n",
        "    print(f\"User: {user_name}, Destination: {dest_name} (ID: {dest_id})\")\n"
      ],
      "metadata": {
        "id": "0xmGQ_u_5vcq",
        "colab": {
          "base_uri": "https://localhost:8080/"
        },
        "outputId": "ecff0078-789e-4dee-ba47-cfa946ce916a"
      },
      "execution_count": 16,
      "outputs": [
        {
          "output_type": "stream",
          "name": "stdout",
          "text": [
            "15/15 [==============================] - 1s 34ms/step - root_mean_squared_error: 1.4218 - loss: 0.8048 - regularization_loss: 1.1527 - total_loss: 1.9575\n",
            "Model evaluation result: {'root_mean_squared_error': 1.42177152633667, 'loss': 0.7734968662261963, 'regularization_loss': 1.1526538133621216, 'total_loss': 1.9261506795883179}\n",
            "Top 5 recommended travel destinations for User 181: \n",
            "User: Sukmono Hidayat, Destination: GPIB Immanuel Semarang (Gereja Blenduk) (ID: 352)\n",
            "User: Sukmono Hidayat, Destination: Bandros City Tour (ID: 330)\n",
            "User: Sukmono Hidayat, Destination: Goa Pindul (ID: 178)\n",
            "User: Sukmono Hidayat, Destination: Pantai Baron (ID: 157)\n",
            "User: Sukmono Hidayat, Destination: Taman Lapangan Banteng (ID: 57)\n"
          ]
        }
      ]
    },
    {
      "cell_type": "code",
      "source": [],
      "metadata": {
        "id": "bMXJSVUKNeqk"
      },
      "execution_count": null,
      "outputs": []
    }
  ]
}